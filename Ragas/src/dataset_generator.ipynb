{
 "cells": [
  {
   "cell_type": "markdown",
   "metadata": {},
   "source": [
    "# 测试集数据生成"
   ]
  },
  {
   "cell_type": "markdown",
   "metadata": {},
   "source": [
    "## 利用ragas生成测试集"
   ]
  },
  {
   "cell_type": "markdown",
   "metadata": {},
   "source": [
    "### 以下是官方案例\n",
    "1. 使用langchain读取文档\n",
    "    ```python\n",
    "\n",
    "    from langchain_community.document_loaders import DirectoryLoader\n",
    "\n",
    "    path = \"Sample_Docs_Markdown/\"\n",
    "    loader = DirectoryLoader(path, glob=\"**/*.md\")\n",
    "    docs = loader.load()\n",
    "    ```"
   ]
  },
  {
   "cell_type": "markdown",
   "metadata": {},
   "source": [
    "2. 将选定的大模型封装在ragas的``LangchainLLMWrapper``与``LangchainEmbeddingsWrapper``中\n",
    "    ```python\n",
    "    from langchain_openai import AzureChatOpenAI\n",
    "    from langchain_openai import AzureOpenAIEmbeddings\n",
    "    from ragas.llms import LangchainLLMWrapper\n",
    "    from ragas.embeddings import LangchainEmbeddingsWrapper\n",
    "    generator_llm = LangchainLLMWrapper(AzureChatOpenAI(\n",
    "        openai_api_version=\"2023-05-15\",\n",
    "        azure_endpoint=azure_configs[\"base_url\"],\n",
    "        azure_deployment=azure_configs[\"model_deployment\"],\n",
    "        model=azure_configs[\"model_name\"],\n",
    "        validate_base_url=False,\n",
    "    ))\n",
    "\n",
    "    # init the embeddings for answer_relevancy, answer_correctness and answer_similarity\n",
    "    generator_embeddings = LangchainEmbeddingsWrapper(AzureOpenAIEmbeddings(\n",
    "        openai_api_version=\"2023-05-15\",\n",
    "        azure_endpoint=azure_configs[\"base_url\"],\n",
    "        azure_deployment=azure_configs[\"embedding_deployment\"],\n",
    "        model=azure_configs[\"embedding_name\"],\n",
    "    ))\n",
    "    ```"
   ]
  },
  {
   "cell_type": "markdown",
   "metadata": {},
   "source": [
    "3. 生成测试数据集\n",
    "    ```python\n",
    "    from ragas.testset import TestsetGenerator\n",
    "\n",
    "    generator = TestsetGenerator(llm=generator_llm, embedding_model=generator_embeddings)\n",
    "    dataset = generator.generate_with_langchain_docs(docs, testset_size=10)\n",
    "    ```"
   ]
  },
  {
   "cell_type": "markdown",
   "metadata": {},
   "source": [
    "4. 最后将测试集转化为pandas的DataFrame即可\n",
    "    ```python\n",
    "    dataset.to_pandas()\n",
    "    ```"
   ]
  },
  {
   "cell_type": "markdown",
   "metadata": {},
   "source": [
    "### 以下是实际操作"
   ]
  },
  {
   "cell_type": "code",
   "execution_count": 2,
   "metadata": {},
   "outputs": [
    {
     "name": "stderr",
     "output_type": "stream",
     "text": [
      "/home/lct/miniconda3/envs/evaluate/lib/python3.12/site-packages/tqdm/auto.py:21: TqdmWarning: IProgress not found. Please update jupyter and ipywidgets. See https://ipywidgets.readthedocs.io/en/stable/user_install.html\n",
      "  from .autonotebook import tqdm as notebook_tqdm\n"
     ]
    }
   ],
   "source": [
    "# 引用ollama的大模型\n",
    "# from langchain_ollama import ChatOllama\n",
    "# from langchain_ollama import OllamaEmbeddings\n",
    "from langchain_community.chat_models import ChatOllama\n",
    "from langchain_community.embeddings import OllamaEmbeddings\n",
    "\n",
    "# ragas的Wrapper\n",
    "from ragas.llms import LangchainLLMWrapper\n",
    "from ragas.embeddings import LangchainEmbeddingsWrapper\n",
    "\n",
    "# 测试集生成器\n",
    "from ragas.testset import TestsetGenerator\n",
    "\n",
    "# 文档读取器\n",
    "from langchain_community.document_loaders import DirectoryLoader, TextLoader\n",
    "\n",
    "# 大模型配置类\n",
    "from ragas.run_config import RunConfig\n",
    "\n",
    "# 配置生成的问题类型\n",
    "from ragas.testset.synthesizers import SingleHopSpecificQuerySynthesizer, MultiHopSpecificQuerySynthesizer, MultiHopAbstractQuerySynthesizer\n",
    "\n",
    "# 处理文本大小\n",
    "from langchain_core.documents import Document\n",
    "from langchain.text_splitter import TokenTextSplitter, RecursiveCharacterTextSplitter\n"
   ]
  },
  {
   "cell_type": "code",
   "execution_count": null,
   "metadata": {},
   "outputs": [],
   "source": [
    "# 读取指定目录下的txt文件\n",
    "# path = \"/home/lct/Ragas/测试集参考文档\"\n",
    "# loader = DirectoryLoader(path=path, glob='*.txt')\n",
    "\n",
    "path = \"../测试集参考文档/工业流程Turned.txt\"\n",
    "loader = TextLoader(path, encoding='utf-8')\n",
    "base_docs = loader.load()"
   ]
  },
  {
   "cell_type": "code",
   "execution_count": 4,
   "metadata": {},
   "outputs": [
    {
     "data": {
      "text/plain": [
       "[Document(metadata={'source': '/home/lct/Ragas/测试集参考文档/工业流程Turned.txt'}, page_content='== 制茶 ==\\n制茶是制茶程序\\n-- 制茶的介绍 --\\n萎凋：使叶质柔软，可塑性大，便于造形。\\n作青：摇青与堆置交替进行，由摇青与晾青两个过程所组成。作青室温25℃左右为宜，相对湿度80%左右。\\n摇青：将萎凋的茶叶放在竹筛内，来回揉，使叶片边缘经过摩擦，叶缘细胞受损，经摊置失水，叶中多酚类在酶的作用下，渐渐被氧化，形成茶叶特有的品质。摇青先轻后重，以免梗叶折断造成死青。这样会破坏茶叶的质量。\\n铁观音宜重摇，延长作青时间；摇青5～6次，使叶缘成朱砂红色，叶中呈黄绿色（半熟香蕉皮）。 摇青过程中，组织因振动而增加细胞吸水力，茎梗的水分往叶脉、叶片输送，香味及可溶性物质输送到叶片，水分由叶片蒸发，摇青后叶子恢复舒张状态，称为「还青」。还青后静置晾青，水分继续蒸发，又呈萎凋状态，经过5～7次摇青、晾青交替进行，叶片呈绿叶红边，状如汤匙状，外观硬挺，手感软，散发出浓郁桂花香，即为作青的适度。\\n北京时间2022年11月29日，中国申报的“中国传统制茶技艺及其相关习俗”，在摩洛哥拉巴特召开的联合国教科文组织保护非物质文化遗产政府间委员会第17届常会上通过评审，列入联合国教科文组织人类非物质文化遗产代表作名录。[1]\\n- 制茶的中文名:制茶\\n- 制茶的萎    凋:柔软.可塑性大.便于造形\\n- 制茶的产    品:乌龙茶、铁观音\\n- 制茶的产    地:安溪、长坑\\n-- 制茶的制茶工艺 --\\n晾青：时间先短后长，摊青先薄后厚。杀青：是利用高温处理新鲜的茶叶，使之变软，保持绿色，并失去一部分水分，便于揉捻。温度：280～300℃。目的：利用高温杀死青叶中的催化酶，使酶失去活性，保持叶片绿色，借热化学反应，消除叶中青臭、苦、涩味，转化为具有花香醇味的杀青叶，能减少茶叶受损情况。揉捻：茶叶含水量60%为宜，适于整形；提高叶温，揉捻可塑性增强。闷堆：将锅炒的茶叶，堆积盖布闷黄。发酵：决定茶叶色、香、味品质的关键。发酵由揉捻开始，因揉捻的压力作用，叶细胞受损，多酚类霉促氧化受损，聚合加速进行，而开始发酵。发酵温度初期32℃～40℃。后期15℃～18℃。发酵初期氧化速度大，要充分供氧，室内宜通风良好。干燥：第一阶段：蒸发水分，制止促霉作用，失水快，含水量60%左右降至47%左右，利于除去异杂气味，提高温度，增加通风量。第二阶段：整形（揉捻），含水量降至18%左右。第三阶段：足干，含水量5%左右。干燥温度80℃～130℃左右。\\n-- 制茶的制茶过程 --\\n采摘采摘是用食指与拇指夹住叶间幼梗的中部，借两指的弹力将茶叶摘断，采摘时间以中午十二时至下午三时前较佳，不同的茶采摘部位也不同，有的采一个顶芽和芽旁的第一片叶子叫一心一叶，有的多采一叶叫一心二叶，也有一心三叶。则另有单人式、双人式采茶机，可利用机械采茶，既省力且快速。日光萎凋采摘下来之茶须于日光下摊晒，或利用热风使茶菁水分适度蒸散，减少细胞水分含量，降低其活性并除去细胞膜之半透性，而细胞中各化学成分亦得以藉酵素氧化作用引起发酵作用的进行，搅拌后摊平于笳苈上。炒青茶菁萎凋至适当程度即以高温炒青破坏叶中酵素活性停止发酵的继续进行，并可除去鲜叶中的臭青味，而鲜叶亦因水分的蒸散而便于揉捻。揉捻将炒青后之茶叶置入揉捻机内，使其滚动并形成卷曲状，由于受到揉压，因此遂有部分汁液被挤出而粘附于表面，如此在冲泡时便可很容易地溶解于茶汤之中。不同的茶其揉捻程度也不一样。团揉团揉是以布巾包裹茶叶使其成为一圆球状，再以手工或布球揉捻机来回搓压，并不时将茶叶摊开打散以散热，团揉过后的茶叶茶身将更为紧结而形成半球形或球形茶。渥堆一般茶青制作到揉捻已算告一段落，剩下的只是干燥，但「后发酵茶」在杀青、揉捻后有一堆放的过程称为「渥堆」，也就是将揉捻过的茶青堆积存放，由于茶青水分颇高，堆放后会发热，且引发了微生物的生长，就因为热度与微生物关系，使茶青产生了另一种的发酵，茶质被「降解」而变得醇和，颜色被氧化而变得深红，这就是所谓的「普洱茶」。干燥干燥是利用干燥机以热风烘干揉捻后之茶叶，使其含水量低于百分之四，利于贮藏运销，通常为了能使内外干燥一致，常采用二次干燥法，先使其达到七、八成干燥，然后取出回潮，再进行第二次的干燥。紧压紧压就是把制成的茶蒸软后加压成块状，这样茶就被称为「紧压茶」，除便于运输、贮藏外，蒸、压、放的过程中也会为茶塑造出另一种老成、粗犷的风味。蒸使茶再多热受潮。压利用茶叶本身的胶质使叶子紧密连结在一起，稳定了往后陈放期间受潮、陈化的速度。放继续紧压前一些成分的降解与陈化，使茶质变得更醇厚。紧压茶的陈放年份是决定市价很重要的因素，当然陈放的品质也很重要。紧压的形状有圆饼状、有方砖形、有碗状、有球状、有柱状...等，紧结程度也有所不同，有些紧压茶只要用手一剥就可以剥开，有些紧压茶就非得用工具不可。紧结的程度也会影响陈放的效果，紧结程度高者，陈放的效应慢，茶性显得结实，紧结程度低者，陈放的效应快，茶性显得豪放。\\n-- 制茶的制造过程 --\\n~~ 绿茶 ~~\\n鲜叶＞杀青＞揉捻＞干燥＞绿茶杀青方式：1.加热杀青2.蒸气杀青干燥方式：1.炒干（炒青）：长炒青——长条形的炒青绿茶扁炒青——外形扁平光滑圆炒青——外形呈圆形颗粒状特种炒青（细嫩炒青）2.烘干（烘青）：普通烘青——通常用来熏制花茶细嫩烘青3.晒干（晒青）：加工成紧压茶\\n~~ 红茶 ~~\\n鲜叶＞萎凋＞揉捻＞发酵＞干燥＞红茶发酵：发酵是制造红茶的关键，又称『渥红』，因叶片中含有生物催化剂『多酚氧化酶』，这种酶在高温下会失去活性，所以红茶不经过杀青，所以酶保持了高度的活性。另外茶叶中含有一类叫做『茶多酚』的无色物质，茶多酚在多酚氧化酶的催化下，很容易氧化，变成红色的化合物，这种化合物一部分溶于水，变成红色的汤，一部分不溶于水，累积在叶片中变成红色，红茶的红汤红叶即如此形成的。分类：1.小种红茶：红汤红叶，有松烟香，为似桂圆汤。熏焙：茶叶薄摊于竹筛中，地上堆松材，以明火燃烧，使茶叶吸收大量松烟香味。2.功夫红茶：发酵至叶色变铜红才能烘干，掌握火温烘至甜香浓郁才是优质产品。（1875年后才有此制法）3.红碎茶：揉捻时用机器将叶片切碎，成颗粒形碎片。红茶制法于绿茶之后，约1650年前后才有。\\n~~ 青茶 ~~\\n鲜叶＞晒青＞摇青＞凉青＞杀青＞初揉＞初烘＞包揉＞复烘＞干燥＞青茶（乌龙茶）属半发酵茶，介于红茶与绿茶之间的茶类。1855年前后才有此种制法。\\n~~ 白茶 ~~\\n鲜叶＞晒干（或用文火烘干）＞白茶采摘细嫩茶叶，叶背多白茸毛的茶叶，加工时不炒不揉，使白茸毛在茶外表完整的保存下来。1.银针：又称白毫银针。2.白牡丹：采摘一芽二叶，萎凋后直接烘干，叶背呈白色，叶面银色，形似牡丹而得名。3.贡眉：采摘一芽二三叶。4.寿眉：制造时先经抽针，抽摘出之茶芽做银针，其它叶片制贡眉，制造时使叶缘微卷曲，完整的保留叶背的白茸毛，叶片似老寿星的眉毛而得名。白茶性凉，具退热降火之功\\n~~ 黄茶 ~~\\n鲜叶＞杀青＞揉捻＞闷堆＞干燥＞黄茶黄芽茶原料细嫩、采摘单芽或一芽一叶加工而成，主要包括湖南岳阳洞庭湖君山的“君山银针”，四川雅安、名山区的“蒙顶黄芽”和安徽霍山的“霍山黄芽”。\\n~~ 黑茶 ~~\\n鲜叶＞杀青＞初揉＞渥堆＞复揉＞干燥＞黑茶黑茶由于原料粗老，加之制造过程中一段堆积发酵时间较长，因而叶色多呈暗褐色，故称黑茶。\\n~~ 花茶 ~~\\n将毛茶与花一层层的堆放，经过几个小时，待茶叶吸收了花香之后，将茶叶与花分开，分别烘干之后，再将花朵加到茶叶中即是花茶。以茉莉花为例：50公斤茶叶，大约配15～40公斤的茉莉花。茶谱中记载，茉莉、玫瑰、蔷薇、蕙兰、莲、桔、栀子、木香、梅花皆可作茶。注：以上各种茶，因品质特征各有不同，加工方法也千变万化，一般有初加工与精加工之分；初加工的产品一般称为毛茶（或初制茶），将毛茶加工成为精制茶或成品茶。 将各种毛茶或精制茶，用香花熏制后得到的产品称为花茶。毛茶经蒸汽处理，在模中压成各种形状，称为紧压茶。\\n-- 制茶的精制 --\\n茶青经过萎凋、发酵、杀青、揉捻、干燥等制造工序(不发酵茶略前二项，后发酵茶在揉捻后增加渥堆)后制成茶称为「初制茶」，这样的茶品质并不稳定，不能就此推出市面，否则放一段时间后容易变质，这变质不是说喝了会坏肚子，而是其欣赏价值会降低。初制茶必须再经过精制的过程，茶才算完全制成。\\n~~ 三种状况 ~~\\n高级茶的精制：这里所谓的高级茶是指人工采摘，或虽机器采摘，但经人工捡过，这样的茶制成后，除筛掉细末捡掉粗片，以及叶茶类的枝叶分离外，最重要的是放几天以后的再干，也就是前面曾说的覆火，芽茶类用低温干燥，叶茶类可用高温干燥，但也以90℃为上限。普及型茶叶的精制：这类茶在当代几乎都是机器采青，制造过程也大量仰赖自动化设备，初制完成后，必须经过筛分(筛分成粗、中、细不同的外形大小)、剪切(将太粗的叶片剪成所需的规格)、拔梗(挑掉茶枝)、整形(使外观更加规格化)、风选(将细末粗片吹掉)、覆火(再一次干燥)等过程。后发酵茶的精制：后发酵茶分成渥堆干燥以后散形与再经紧压的块状茶，这些茶的精制是指陈放。这些茶若只是粗制完成，其欣赏价值不高，必须经过长时间的陈放，这里所说的长时间的陈放是指五年、八年，二十、三十年，茶质才提升至另一境界。陈放要在干燥阴凉无杂味的地方，不是使用抽真空冷冻的方法，而是自然地陈放在空气中，需要包装、防尘、防潮但透气。增加温度湿度可以增快陈放效果，但成品的品质低劣。\\n~~ 处理方式 ~~\\n其它茶类也有陈放老茶的做法，那是在成品茶的处理方式，加工单元的说明。加工茶到了精制之后，己是品，可以包装上市了，但为了使茶更加多样化，可以拿来做些加工。加工可分成熏花、焙火、掺和、陈放等四个方式加以叙述。熏花茶有个特性，就是很会吸收别的气味，如在油漆的地方，茶快会有油漆味。我们就利用它的这种特性，让它吸收我们喜欢的花香，如我们将茉莉花与之拌在一起，它就会吸收茉莉花的香而成茉莉花茶，将桂花与之拌在一起，它就会吸收桂花的香而成桂花茶……等。花是要新鲜的花，因为干了的花是不香的。但拌以新鲜的花，茶叶不是会受潮吗？所以在熏过花后还要再干一次。那花干要不要筛掉呢？依花干是否尚有效用而定，如茉莉花干已无滋味上的效用，可以筛掉，留一些在茶内只是点缀一下而已。桂花则不一样，干燥过的桂花尚有滋味上的效用，所以桂花茶是不筛掉桂花干的，而且冲泡时还要将桂花干平均掺入一些。熏多久呢？八小时左右，这里所说的熏只是将花与茶依一定比例(如百分之二十)拌在一起而已，并未加热，但花与茶与拌在一起后会发热，太热时还要翻拌一下使其散热(谓之通花)。熏花又有人写成窨花，花茶也有人叫作香片。熏花是可以多次进行的，因为如果只是熏一次，香气并未入里，冲泡一次、二次后就没有花香了。改善之道可以再熏制一次，也就是在再干后，重新拌入另一批新鲜的花朵，再重复制作一次，这样制成的茶就称为双熏花茶，如果还嫌不够，还可以再重复熏制一次，那就是三熏花茶了。但大家得记住，我们是在喝茶，只是藉花衬托茶味而已，所以制茶老师父会提醒我们：「七分茶，三分花」。什么茶配什么花有没有一定准则？没有，但一般人会考虑相不相配的问题，如茉莉花与桂花，比较起来茉莉花较年轻，桂花较成熟，所以我们会用清茶或绿茶熏茉莉花，用冻顶或铁观音熏桂花。焙火如果我们想让制成的茶有股火香，感觉得比较温暖一点，可拿来用火烘焙。焙火轻重也会造成不同的风味，焙火轻者喝来感觉比较生，焙火重者喝来感觉比较熟。我们从外观上如何看出焙火的轻重？焙火轻者，颜色较亮，焙火重者，颜色较暗，这颜色包括茶干的颜色与冲泡后茶汤的颜色。在发酵时我们谈到过：发酵愈轻，颜色愈绿，发酵愈重，颜色愈红。焙火所影响的是颜色的深浅，也就是明度的高低，焙火愈重，明度愈低，焙火愈轻，明度愈高。在品饮的口感上有何差异呢？喝轻焙火的茶有如吃清蒸清炒的菜，喝重焙火的茶有如吃红烧的。对身体的效应有何不同呢？喝不焙火的茶比较寒，喝焙火的茶比较不寒，茶是性寒的食物，焙火可以让它不那么寒，但不致于产生热的效果。一般我们所谓的生茶与熟茶，主要是指焙火而言，但茶青采得愈成熟，揉捻愈重发酵愈多，也是偏熟的几个因素，茶青愈嫩、揉捻愈轻、发酵愈少，则是偏生的几个因素。所以要判别那一种茶比较熟，就分析焙火、茶青、揉捻与发酵四个因素，偏熟因素多者就是较熟。包种茶的制造过程可分为粗制及精制二部分，茶叶完成干燥的步骤过程时称为茶叶之粗制，其制品称为粗制茶或毛茶，由粗制茶再经过筛分、拣剔、烘焙等步骤方可称为精制茶。其中烘焙对部分发酵茶而言其主要目的有二：\\u30001.降低茶叶的水分含量，以减缓茶叶品质变劣的速度。是改善或调整茶叶的香气滋味及茶汤水色，以补救粗制过程中的缺陷并将茶叶调制成迎合市场需求的品质。2.对部分发酵茶类的包种茶及乌龙茶而言，烘焙是决定香气与滋味的重要关键，正确的烘焙方法可显著提高茶叶品质与价值，但烘焙也是最难提摸的加工程序，烘焙的效果受粗制茶的季节、产地、加工技术、新陈、条索、烘焙器具、热源、温度高低、时间长短等影响均甚剧。叙述几点烘焙茶叶的基本经验法则。\\u3000温度高低：温度高低是决定茶叶品质的主要因子，当温度升高时，茶叶中的水分逐渐蒸发出来，而后香气伴随着水分蒸发出来，大部分香气成分中的芳香精油类沸点均在150度以上，因此烘焙的温度应在150度以下，通常以不超过110度为宜。通常较粗老的茶叶需较高的烘焙温度以藉焦糖产物掩盖粗老茶叶的粗菁味；细嫩茶叶则温度不可太高，而延长时间以使茶汤滋味转甘醇而香味又能适当发扬为原则。再烘焙时间长短：同样温度下较嫩的茶叶耐火力较弱，烘焙时间宜缩短，反之较粗老的茶叶耐火力较强，烘焙时间需较长；粗制茶发酵程度较充足者，耐火力较弱，时间要缩短，反之要延长；外形紧结的茶叶耐火程度高，需较长的再烘焙时间，反之则缩短时间。茶叶含水量的差别：茶叶再烘焙的原因之一是要使茶叶中的含水量降低，因此含水分多的茶叶，烘焙温度要提高、时间要延长。同时烘焙的环境若较潮湿，亦需注意提高烘焙温度或时间。茶量多少的关系：因茶并非良好的传热导体，因此含水量高、条形紧结的茶以薄摊为宜，若摊放过厚，亦造成闷变。补火：补火是茶叶装箱运输前的重要程序，若是茶叶干燥程度够则不需要。补火使用的温度通常不可太高，时间亦不可太久，以免影响原先制茶的香气及滋味。一般而言，焙火程度低的茶不可超过90度，较次级的茶亦不可超过110度。掺和：掺和就是把喜欢而且可以掺的食物与红茶拌在一起，如把洛神花切碎了与红茶掺在一起，如把洛神花茶，把薄荷切碎了清茶掺在一起，就成了薄荷茶。将食用香料掺入茶中的做法也称为掺和，如加入苹果香料而成苹果茶，加入柠檬香料而成柠檬茶。掺和茶必须把掺和的物品标示出来，若掺了增加茶叶甘度与香气的物质而不标示，只说该茶又甘又香，那就违反了食品标示法。到目前为止，各类茶的香气尚无法以人工合成的方式制造，所以若是某种茶像极了茶种花或某种食品的香，那就要怀疑是否掺了人工香料。茶的甘也不会一喝就很凸显，而是所谓的回甘，若是喝了马上感受甘味，而且很强烈，也应该怀疑是否掺入人工甘料。陈放：陈放就是把茶买回来放，放个一年、五年或更久，使茶性变得更加醇和。陈放一年者是属于短期陈放，目的只在降低茶的青味与寒性，多利用于绿茶或不焙火的茶类，这类型的陈放要特别要求干燥。陈放三、五年以上者是属于中期陈放，目的是要改变茶叶的品质特性，使其在原有基础上变得醇净而少刺激，多利用于轻火以上的叶茶类。十年以上者是属于长期的陈放，目的在改变茶叶的风格，使之产生老茶的另一股风味，多利用于轻火以上的叶茶类与后发酵茶。陈放要在阴干无杂味的地方，包装的要求是防潮不透光，但不要抽真空不要冷藏。湿度高的时候不要开封，不要常开封，受潮后要再干，再干的方法依茶的种类选择低温干燥或高温干燥。茶的品质宁可高一些，因为陈放的时间是高价的；一开始的焙火程度不要太高，否则以后变化的空间不大。包装：把茶包装成使用时需的大小与型式，而且做好商品标示，是利于茶叶品质与销售的做法。小茶包：第一类的茶商品包装成可以直接冲泡的小茶包，浸泡所需浓度后把小茶包提出丢弃。这种包装源起于碎形红茶，因为碎形茶才可以上机器自动装填自动包装，由于这类包装确实方便了喝茶，所以不久即扩展到花茶与乌龙茶类，但必须利用细碎的茶叶或特意将之剪切成角状，这种作法很不利不发酵与部分发酵茶的品质，所以普及度不大。这几年有了大转机，只要茶叶揉成较紧结的球状，而且枝叶都以分离，可以有机器自动装填与包装，产生所谓立体袋茶或原片茶包的新型小袋茶，这种包装方式大大方便了部分发酵茶与不发酵茶的饮用。小包装：第二类的茶商品包装是小包装，将茶以100公克、300公克、600公克等不同的份量装于罐内或袋内。这类包装有人加以抽真空，或抽真空后再冲以氮气，甚至于绿末茶还要求在摄氏0度以下保存。这类包装方式是针对短期饮用的情况，如果是可以陈放的茶叶，也就是陈放后品质不致劣变的茶叶，不必抽真或充氮包装，开封后也不必放冰箱冷藏，只要在包装上提醒消费者使用后应防潮防异味防阳光即可。大包装：第三类的茶商品包装是大包装，将茶以三台斤、五台斤或一公斤的量以罐装的方式销售。这类包装是针对陈放的目的而来，所以茶叶必须处理到可以陈放的状况，这时的棈制处理是很重要的，尤其是叶茶类枝叶分离。罐子的耐用度要高，防潮防光效果好，罐口紧密度适中，防潮但能透气。包装上标示除商品标示法所要求的项目外，最好能将茶叶的状况作一番叙述，包括茶名解说与茶性解说，茶名解说就是一般的商品名称，如龙井、清茶...等，茶性解说包括：发酵(如不发酵、轻发酵、中发酵、重发酵、全发酵、后发酵)、揉捻(如轻揉捻、中揉捻、重揉捻、紧压)、焙火(如不焙火、轻焙火、中焙火、重焙火)、注(如熏茉莉花、调苹果香、2000年春、1995年存)...等。\\n-- 制茶的制茶历史 --\\n~~ 从煮到晒 ~~\\n茶之为用，最早从咀嚼茶树的鲜叶开始，发展到生煮羹饮。生煮者，类似现代的煮菜汤。如云南基诺族至今仍有吃“凉拌茶”习俗，鲜叶揉碎放碗中，加入少许黄果叶，大蒜，辣椒和盐等作配料，再加入泉水拌匀；茶作羹饮，有《晋书》记“吴人采茶煮之，曰茗粥”，甚至到了唐代，仍有吃茗粥的习惯。三国时，魏朝已出现了茶叶的简单加工，采来的叶子先做成饼，晒干或烘干，这是制茶工艺的萌芽。\\n~~ 从蒸到饼 ~~\\n初步加工的饼茶仍有很浓的青草味，经反复实践，发明了蒸青制茶。即将茶的鲜叶蒸后碎制，饼茶穿孔，贯串烘干，去其青气。但仍苦涩味，于是又通过洗涤鲜叶，蒸青压榨，去汁制饼，使茶叶苦涩味大大降低。自唐至宋，贡茶兴起，成立了贡茶院，即制茶厂，组织官员研究制茶技术，从而促使茶叶生产不断改革。唐代蒸青作饼已经逐渐完善，陆羽《茶经·之造》记述：“晴，采之。蒸之，捣之，拍之，焙之，穿之，封之，茶之干矣。”，即此时完整的蒸青茶饼制作工序为：蒸茶、解块、捣茶、装模、拍压、出模、列茶晾干、穿孔、烘焙、成穿、封茶。宋代，制茶技术发展很快。新品不断涌现。北宋年间，做成团片状的龙凤团茶盛行。宋代《宣和北苑贡茶录》记述“宋太平兴国初，特置龙凤模，遣使即北苑造团茶，以别庶饮，龙凤茶盖始于此”。龙凤团茶的制造工艺，据宋代赵汝励《北苑别录》记述，有六道工序：蒸茶、榨茶、研茶、造茶、过黄、烘茶。茶芽采回后，先浸泡水中，挑选匀整芽叶进行蒸青，蒸后冷水清洗，然后小榨去水，大榨去茶汁，去汁后置瓦盆内兑水研细，再入龙凤模压饼、烘干。龙凤团茶的工序中，冷水快冲可保持绿色，提高了茶叶质量，而水浸和榨汁的做法，由于夺走真味，使茶香极大损失，且整个制作过程耗时费工，这些均促使了蒸青散茶的出现。\\n~~ 从团到散 ~~\\n在蒸青团茶的生产中，为了改善苦味难除、香味不正的缺点，逐渐采取蒸后不揉不压，直接烘干的做法，将蒸青团茶改造为蒸青散茶，保持茶的香味，同时还出现了对散茶的鉴赏方法和品质要求。这种改革出现在宋代。《宋史·食货志》载：“茶有两类，曰片茶，曰散茶”，片茶即饼茶。元代王桢在《农书·卷十·百谷谱》中，对当时制蒸青散茶工序有详细记载“采讫，一甑微蒸，生熟得所。蒸已，用筐箔薄摊，乘湿揉之，入焙，匀布火，烘令干，勿使焦”。由宋至元，饼茶、龙凤团茶和散茶同时并存，到了明代，由于明太祖朱元璋于1391年下诏，废龙团兴散茶。使得蒸青散茶大为盛行。\\n~~ 从蒸到炒 ~~\\n相比于饼茶和团茶，茶叶的香味在蒸青散茶得到了更好的保留，然而，使用蒸青方法，依然存在香味不够浓郁的缺点。于是出现了利用干热发挥茶叶优良香气的炒青技术。炒青绿茶自唐代已始而有之。唐刘禹锡《西山兰若试茶歌》中言道：“山僧后檐茶数丛……斯须炒成满室香”，又有“自摘至煎俄顷余”之句，说明嫩叶经过炒制而满室生香，有炒制时间不常，这是至今发现的关于炒青绿茶最早的文字记载。经唐、宋、元代的进一步发展，炒青茶逐渐增多，到了明代，炒青制法日趋完善，在《茶录》、《茶疏》、《茶解》中均有详细记载。其制法大体为：高温杀青、揉捻、复炒、烘焙至干，这种工艺与现代炒青绿茶制法非常相似，参看附录中绿茶制造工艺。\\n~~ 发展史 ~~\\n在制茶的过程中，由于注重确保茶叶香气和滋味的探讨，通过不同加工方法，从不发酵、半发酵到全发酵一系列不同发酵程序所引起茶叶内质的变化，探索到了一些规律，从而使茶叶从鲜叶到原料，通过不同的制造工艺，制成各类色、香、味、形品质特征不同的六大茶类，即绿茶、黄茶、黑茶、白茶、红茶、青茶。(1)黄茶的产生绿茶的基本工艺是杀青、揉捻、干燥，当绿茶炒制工艺掌握不当，如炒青杀青温度低，蒸青杀青时间长，或杀青后未及时摊凉及时揉捻，或揉捻后未及时烘干炒干，堆积过久，使叶子变黄，产生黄叶黄汤，类似后来出现的黄茶。因此，黄茶的产生可能是从绿茶制法不当演变而来。明代许次纾《茶疏》(1597年)记载了这种演变历史。(2)黑茶的出现绿茶杀青时叶量过多火温低，使叶色变为近似黑色的深褐绿色，或以绿毛茶堆积后发酵，渥成黑色，这是产生黑茶的过程。黑茶的制造始于明代中叶。明御史陈讲疏记载了黑茶的生产(1524年)：“商茶低仍，悉征黑茶，产地有限……”。(3)白茶的由来和演变唐、宋时所谓的白茶，是指偶然发现的白叶茶树采摘而成的茶，与后来发展起来的不炒不揉而成的白茶不同。而到了明代，出现了类似的白茶。田艺蘅《煮泉小品》记载：“茶者以火作者为次，生晒者为上，亦近自然……清翠鲜明，尤为可爱”。现代白茶是从宋代绿茶三色细芽、银丝水芽开始逐渐演变而来的。最初是指干茶表面密布白色茸毫、色泽银白的“白毫银针”，后来经发展又产生了白牡丹、贡眉、寿眉等其它花色。(4)红茶的产生和发展红茶起源于十六世纪。在茶叶制造发展过程中，发现日晒代替杀青，揉捻后叶色红变而产生了红茶。最早的红茶生产从福建崇安的小种红茶开始。清代刘靖《片刻余闲集》中记述“山之第九曲处有星村镇，为行家萃聚。外有本省邵武、江西广信等处所产之茶，黑色红汤，土名江西乌，皆私售于星村各行”。自星村小种红茶出现后，逐渐演变产生了工夫红茶。后20世纪20年代，印度发展将茶叶切碎加工的红碎茶，我国于20世纪50年代也开始试制红碎茶。(5)青茶的起源青茶介于绿茶、红茶之间，先绿茶制法，再红茶制法，从而悟出了青茶制法。青茶的起源，学术界尚有争议，有的推论出现在北宋，有的推定于清咸丰年间，但都认为最早在福建创制。清初王草堂《茶说》：“武夷茶...茶采后，以竹筐匀铺，架于风日中，名曰晒青，俟其青色渐收，然后再加炒焙……烹出之时，半青半红，青者乃炒色，红者乃焙色也”。现福建武夷岩茶的制法仍保留了这种传统工艺的特点。(六)从素茶到花香茶茶加香料或香花的做法已有很久的历史。宋代蔡襄《茶录》提到加香料茶“茶有真香，而入贡者微以龙脑和膏，欲助其香”。南宋已有茉莉花焙茶的记载，施岳《步月.茉莉》词注：“茉莉岭表所产……古人用此花焙茶”。到了明代，窨花制茶技术日益完善，且可用于制茶的花品种繁多，据《茶谱》记载，有桂花、茉莉、玫瑰、蔷薇、兰蕙、桔花、栀子、木香、梅花九种之多。现代窨制花茶，除了上述花种外，还有白兰、玳瑁、珠兰等。由于制茶技术不断改革，各类制茶机械相继出现，先是小规模手工作业，接着出现各道工序机械化。除了少数名贵茶仍由手工加工外，绝大多数茶叶的加工均采用了机械化生产。\\n-- 制茶的信息来源 --\\n来源为百度百科，地址为https://baike.baidu.com/item/%E5%88%B6%E8%8C%B6\\n\\n')]"
      ]
     },
     "execution_count": 4,
     "metadata": {},
     "output_type": "execute_result"
    }
   ],
   "source": [
    "base_docs"
   ]
  },
  {
   "cell_type": "code",
   "execution_count": 5,
   "metadata": {},
   "outputs": [],
   "source": [
    "docs = []\n",
    "\n",
    "for base_doc in base_docs:\n",
    "    source = base_doc.metadata\n",
    "\n",
    "    splitter = TokenTextSplitter(chunk_size=600)\n",
    "    chunks = splitter.split_text(base_doc.page_content)\n",
    "\n",
    "    for chunk in chunks:\n",
    "        docs.append(Document(metadata=source, page_content=chunk))\n"
   ]
  },
  {
   "cell_type": "code",
   "execution_count": 6,
   "metadata": {},
   "outputs": [
    {
     "name": "stderr",
     "output_type": "stream",
     "text": [
      "/tmp/ipykernel_594/1168921987.py:5: LangChainDeprecationWarning: The class `ChatOllama` was deprecated in LangChain 0.3.1 and will be removed in 1.0.0. An updated version of the class exists in the :class:`~langchain-ollama package and should be used instead. To use it run `pip install -U :class:`~langchain-ollama` and import as `from :class:`~langchain_ollama import ChatOllama``.\n",
      "  llm = ChatOllama(model=\"qwen2.5:32b\", num_ctx=32768, base_url='http://localhost:11434')\n",
      "/tmp/ipykernel_594/1168921987.py:6: LangChainDeprecationWarning: The class `OllamaEmbeddings` was deprecated in LangChain 0.3.1 and will be removed in 1.0.0. An updated version of the class exists in the :class:`~langchain-ollama package and should be used instead. To use it run `pip install -U :class:`~langchain-ollama` and import as `from :class:`~langchain_ollama import OllamaEmbeddings``.\n",
      "  emb = OllamaEmbeddings(model=\"bge-m3\", base_url='http://localhost:11434')\n"
     ]
    }
   ],
   "source": [
    "# 包装大模型\n",
    "# llm = ChatOllama(model=\"qwen2.5:32b\", num_ctx=32768, base_url='http://localhost:11434')\n",
    "# emb = OllamaEmbeddings(model=\"bge-m3\", base_url='http://localhost:11434')\n",
    "\n",
    "llm = ChatOllama(model=\"qwen2.5:32b\", num_ctx=32768, base_url='http://localhost:11434')\n",
    "emb = OllamaEmbeddings(model=\"bge-m3\", base_url='http://localhost:11434')\n",
    "\n",
    "\n",
    "ollama_chat = LangchainLLMWrapper(langchain_llm=llm, run_config=RunConfig(timeout=1200))\n",
    "ollama_emb = LangchainEmbeddingsWrapper(embeddings=emb)"
   ]
  },
  {
   "cell_type": "code",
   "execution_count": 6,
   "metadata": {},
   "outputs": [],
   "source": [
    "# 配置测试集的问题分布（未启用）\n",
    "query_distribution = [\n",
    "    (SingleHopSpecificQuerySynthesizer(llm=ollama_chat), 0.4),\n",
    "    (MultiHopAbstractQuerySynthesizer(llm=ollama_chat), 0.3),\n",
    "    (MultiHopSpecificQuerySynthesizer(llm=ollama_chat), 0.3)\n",
    "]"
   ]
  },
  {
   "cell_type": "code",
   "execution_count": 7,
   "metadata": {},
   "outputs": [
    {
     "name": "stderr",
     "output_type": "stream",
     "text": [
      "Generating personas: 100%|██████████| 3/3 [00:05<00:00,  1.95s/it]                                             \n",
      "Generating Scenarios: 100%|██████████| 2/2 [02:28<00:00, 74.35s/it] \n",
      "Generating Samples: 100%|██████████| 20/20 [01:44<00:00,  5.22s/it]\n"
     ]
    }
   ],
   "source": [
    "# 生成测试数据\n",
    "generator = TestsetGenerator(llm=ollama_chat, embedding_model=ollama_emb)\n",
    "dataset = generator.generate_with_langchain_docs(testset_size=20, documents=docs)"
   ]
  },
  {
   "cell_type": "code",
   "execution_count": 9,
   "metadata": {},
   "outputs": [
    {
     "data": {
      "text/html": [
       "<div>\n",
       "<style scoped>\n",
       "    .dataframe tbody tr th:only-of-type {\n",
       "        vertical-align: middle;\n",
       "    }\n",
       "\n",
       "    .dataframe tbody tr th {\n",
       "        vertical-align: top;\n",
       "    }\n",
       "\n",
       "    .dataframe thead th {\n",
       "        text-align: right;\n",
       "    }\n",
       "</style>\n",
       "<table border=\"1\" class=\"dataframe\">\n",
       "  <thead>\n",
       "    <tr style=\"text-align: right;\">\n",
       "      <th></th>\n",
       "      <th>user_input</th>\n",
       "      <th>reference_contexts</th>\n",
       "      <th>reference</th>\n",
       "      <th>synthesizer_name</th>\n",
       "    </tr>\n",
       "  </thead>\n",
       "  <tbody>\n",
       "    <tr>\n",
       "      <th>0</th>\n",
       "      <td>什么是摩洛哥拉巴特在中国传统制茶技艺申报中的作用？</td>\n",
       "      <td>[样会破坏茶叶的质量。\\n铁观音宜重摇，延长作青时间；摇青5～6次，使叶缘成朱砂红色，叶中呈...</td>\n",
       "      <td>摩洛哥拉巴特是联合国教科文组织会议的举办地，在这里审议了中国申报的“中国传统制茶技艺及其相关...</td>\n",
       "      <td>single_hop_specifc_query_synthesizer</td>\n",
       "    </tr>\n",
       "    <tr>\n",
       "      <th>1</th>\n",
       "      <td>What happened at the 17th session of the Inter...</td>\n",
       "      <td>[片呈绿叶红边，状如汤匙状，外观硬挺，手感软，散发出浓郁桂花香，即为作青的适度。\\n北京时间...</td>\n",
       "      <td>The Chinese application for 'Traditional Tea-m...</td>\n",
       "      <td>single_hop_specifc_query_synthesizer</td>\n",
       "    </tr>\n",
       "    <tr>\n",
       "      <th>2</th>\n",
       "      <td>What is the main tea production area mentioned...</td>\n",
       "      <td>[�龙茶、铁观音\\n- 制茶的产    地:安溪、长坑\\n-- 制茶的制茶工艺 --\\n晾青...</td>\n",
       "      <td>The main tea production area mentioned in the ...</td>\n",
       "      <td>single_hop_specifc_query_synthesizer</td>\n",
       "    </tr>\n",
       "    <tr>\n",
       "      <th>3</th>\n",
       "      <td>Whaet is the prcess of wochui in Pu'er tea pro...</td>\n",
       "      <td>[��捻已算告一段落，剩下的只是干燥，但「后发酵茶」在杀青、揉捻后有一堆放的过程称为「渥堆」...</td>\n",
       "      <td>The process of渥堆 (wochui) involves stacking th...</td>\n",
       "      <td>single_hop_specifc_query_synthesizer</td>\n",
       "    </tr>\n",
       "    <tr>\n",
       "      <th>4</th>\n",
       "      <td>什么是茶的圆饼状包装及其优点？</td>\n",
       "      <td>[之四，利于贮藏运销，通常为了能使内外干燥一致，常采用二次干燥法，先使其达到七、八成干燥，然...</td>\n",
       "      <td>圆饼状是紧压茶的一种形状。紧压茶通过将制成的茶叶蒸软后加压成块状来制作，这不仅便于运输和贮藏...</td>\n",
       "      <td>single_hop_specifc_query_synthesizer</td>\n",
       "    </tr>\n",
       "    <tr>\n",
       "      <th>5</th>\n",
       "      <td>红茶的发酵过程是如何影响其颜色和味道的？</td>\n",
       "      <td>[干燥＞红茶发酵：发酵是制造红茶的关键，又称『渥红』，因叶片中含有生物催化剂『多酚氧化酶』，...</td>\n",
       "      <td>红茶的发酵是制造红茶的关键步骤，也称为『渥红』。在这个过程中，茶叶中的多酚氧化酶在不经过高温...</td>\n",
       "      <td>single_hop_specifc_query_synthesizer</td>\n",
       "    </tr>\n",
       "    <tr>\n",
       "      <th>6</th>\n",
       "      <td>什么是红碎茶？</td>\n",
       "      <td>[�的。分类：1.小种红茶：红汤红叶，有松烟香，为似桂圆汤。熏焙：茶叶薄摊于竹筛中，地上堆松...</td>\n",
       "      <td>红碎茶是揉捻时用机器将叶片切碎，成颗粒形碎片。</td>\n",
       "      <td>single_hop_specifc_query_synthesizer</td>\n",
       "    </tr>\n",
       "    <tr>\n",
       "      <th>7</th>\n",
       "      <td>什么是银针茶?</td>\n",
       "      <td>[＞杀青＞初揉＞初烘＞包揉＞复烘＞干燥＞青茶（乌龙茶）属半发酵茶，介于红茶与绿茶之间的茶类。...</td>\n",
       "      <td>银针又称白毫银针，是采摘细嫩茶叶加工时不炒不揉，使白茸毛在茶外表完整保存下来的白茶品种。</td>\n",
       "      <td>single_hop_specifc_query_synthesizer</td>\n",
       "    </tr>\n",
       "    <tr>\n",
       "      <th>8</th>\n",
       "      <td>What is the origin of '君山银针'?</td>\n",
       "      <td>[�眉：采摘一芽二三叶。4.寿眉：制造时先经抽针，抽摘出之茶芽做银针，其它叶片制贡眉，制造时...</td>\n",
       "      <td>君山银针是黄芽茶的一种，其原料细嫩，主要采摘单芽或一芽一叶加工而成，产自湖南岳阳洞庭湖的君山。</td>\n",
       "      <td>single_hop_specifc_query_synthesizer</td>\n",
       "    </tr>\n",
       "    <tr>\n",
       "      <th>9</th>\n",
       "      <td>什么是黑茶？</td>\n",
       "      <td>[“霍山黄芽”。\\n~~ 黑茶 ~~\\n鲜叶＞杀青＞初揉＞渥堆＞复揉＞干燥＞黑茶黑茶由于原料...</td>\n",
       "      <td>黑茶由于原料粗老，并且在制造过程中有一段较长的堆积发酵时间，因此叶色多呈暗褐色。</td>\n",
       "      <td>single_hop_specifc_query_synthesizer</td>\n",
       "    </tr>\n",
       "    <tr>\n",
       "      <th>10</th>\n",
       "      <td>What does the book 《茶疏》 mention about the deve...</td>\n",
       "      <td>[&lt;1-hop&gt;\\n\\n�满室生香，有炒制时间不常，这是至今发现的关于炒青绿茶最早的文字记载...</td>\n",
       "      <td>The book 《茶疏》 mentions that black tea was prod...</td>\n",
       "      <td>multi_hop_specific_query_synthesizer</td>\n",
       "    </tr>\n",
       "    <tr>\n",
       "      <th>11</th>\n",
       "      <td>How is the process of blending hibiscus with t...</td>\n",
       "      <td>[&lt;1-hop&gt;\\n\\n级的茶亦不可超过110度。掺和：掺和就是把喜欢而且可以掺的食物与红茶...</td>\n",
       "      <td>The process of blending involves mixing prefer...</td>\n",
       "      <td>multi_hop_specific_query_synthesizer</td>\n",
       "    </tr>\n",
       "    <tr>\n",
       "      <th>12</th>\n",
       "      <td>小种红茶是如何通过熏焙过程获得松烟香味，以及它与工夫红茶的关系是什么？</td>\n",
       "      <td>[&lt;1-hop&gt;\\n\\n干燥＞红茶发酵：发酵是制造红茶的关键，又称『渥红』，因叶片中含有生物...</td>\n",
       "      <td>小种红茶通过将茶叶薄摊于竹筛中，并在地上堆松材以明火燃烧的方式进行熏焙，使茶叶吸收大量松烟香...</td>\n",
       "      <td>multi_hop_specific_query_synthesizer</td>\n",
       "    </tr>\n",
       "    <tr>\n",
       "      <th>13</th>\n",
       "      <td>如何通过陈放来提升后发酵茶的品质？</td>\n",
       "      <td>[&lt;1-hop&gt;\\n\\n��多利用于绿茶或不焙火的茶类，这类型的陈放要特别要求干燥。陈放三、...</td>\n",
       "      <td>后发酵茶需要在干燥阴凉无杂味的地方进行长时间的陈放，以提升其品质至另一境界。陈放过程中不应使...</td>\n",
       "      <td>multi_hop_specific_query_synthesizer</td>\n",
       "    </tr>\n",
       "    <tr>\n",
       "      <th>14</th>\n",
       "      <td>How is rose used in the production of flower-s...</td>\n",
       "      <td>[&lt;1-hop&gt;\\n\\n“霍山黄芽”。\\n~~ 黑茶 ~~\\n鲜叶＞杀青＞初揉＞渥堆＞复揉＞...</td>\n",
       "      <td>Rose, along with other flowers like jasmine, c...</td>\n",
       "      <td>multi_hop_specific_query_synthesizer</td>\n",
       "    </tr>\n",
       "    <tr>\n",
       "      <th>15</th>\n",
       "      <td>What is the process of making 茉莉花茶 and how doe...</td>\n",
       "      <td>[&lt;1-hop&gt;\\n\\n拌在一起，它就会吸收茉莉花的香而成茉莉花茶，将桂花与之拌在一起，它就...</td>\n",
       "      <td>To make 茉莉花茶, fresh jasmine flowers are mixed ...</td>\n",
       "      <td>multi_hop_specific_query_synthesizer</td>\n",
       "    </tr>\n",
       "    <tr>\n",
       "      <th>16</th>\n",
       "      <td>印度在20世纪20年代发展了什么类型的茶叶加工技术？这种技术在中国何时开始试制？</td>\n",
       "      <td>[&lt;1-hop&gt;\\n\\n小种红茶出现后，逐渐演变产生了工夫红茶。后20世纪20年代，印度发展...</td>\n",
       "      <td>印度在20世纪20年代发展了将茶叶切碎加工的红碎茶技术。中国于20世纪50年代也开始试制这种...</td>\n",
       "      <td>multi_hop_specific_query_synthesizer</td>\n",
       "    </tr>\n",
       "    <tr>\n",
       "      <th>17</th>\n",
       "      <td>如何用冻顶熏桂花，并且通过不同的焙火程度来影响茶叶的颜色和口感？</td>\n",
       "      <td>[&lt;1-hop&gt;\\n\\n�一批新鲜的花朵，再重复制作一次，这样制成的茶就称为双熏花茶，如果还...</td>\n",
       "      <td>使用冻顶或铁观音熏桂花，可以制作出带有花香的茶。焙火轻者喝起来感觉比较生，颜色较亮；焙火重者...</td>\n",
       "      <td>multi_hop_specific_query_synthesizer</td>\n",
       "    </tr>\n",
       "    <tr>\n",
       "      <th>18</th>\n",
       "      <td>How does the automatic filling and packaging t...</td>\n",
       "      <td>[&lt;1-hop&gt;\\n\\n以上机器自动装填自动包装，由于这类包装确实方便了喝茶，所以不久即扩展...</td>\n",
       "      <td>The automatic filling and packaging technology...</td>\n",
       "      <td>multi_hop_specific_query_synthesizer</td>\n",
       "    </tr>\n",
       "    <tr>\n",
       "      <th>19</th>\n",
       "      <td>How does the fermentation process contribute t...</td>\n",
       "      <td>[&lt;1-hop&gt;\\n\\n�通过不同加工方法，从不发酵、半发酵到全发酵一系列不同发酵程序所引起...</td>\n",
       "      <td>The fermentation process is crucial in manufac...</td>\n",
       "      <td>multi_hop_specific_query_synthesizer</td>\n",
       "    </tr>\n",
       "  </tbody>\n",
       "</table>\n",
       "</div>"
      ],
      "text/plain": [
       "                                           user_input  \\\n",
       "0                           什么是摩洛哥拉巴特在中国传统制茶技艺申报中的作用？   \n",
       "1   What happened at the 17th session of the Inter...   \n",
       "2   What is the main tea production area mentioned...   \n",
       "3   Whaet is the prcess of wochui in Pu'er tea pro...   \n",
       "4                                     什么是茶的圆饼状包装及其优点？   \n",
       "5                                红茶的发酵过程是如何影响其颜色和味道的？   \n",
       "6                                             什么是红碎茶？   \n",
       "7                                             什么是银针茶?   \n",
       "8                       What is the origin of '君山银针'?   \n",
       "9                                              什么是黑茶？   \n",
       "10  What does the book 《茶疏》 mention about the deve...   \n",
       "11  How is the process of blending hibiscus with t...   \n",
       "12                小种红茶是如何通过熏焙过程获得松烟香味，以及它与工夫红茶的关系是什么？   \n",
       "13                                  如何通过陈放来提升后发酵茶的品质？   \n",
       "14  How is rose used in the production of flower-s...   \n",
       "15  What is the process of making 茉莉花茶 and how doe...   \n",
       "16           印度在20世纪20年代发展了什么类型的茶叶加工技术？这种技术在中国何时开始试制？   \n",
       "17                   如何用冻顶熏桂花，并且通过不同的焙火程度来影响茶叶的颜色和口感？   \n",
       "18  How does the automatic filling and packaging t...   \n",
       "19  How does the fermentation process contribute t...   \n",
       "\n",
       "                                   reference_contexts  \\\n",
       "0   [样会破坏茶叶的质量。\\n铁观音宜重摇，延长作青时间；摇青5～6次，使叶缘成朱砂红色，叶中呈...   \n",
       "1   [片呈绿叶红边，状如汤匙状，外观硬挺，手感软，散发出浓郁桂花香，即为作青的适度。\\n北京时间...   \n",
       "2   [�龙茶、铁观音\\n- 制茶的产    地:安溪、长坑\\n-- 制茶的制茶工艺 --\\n晾青...   \n",
       "3   [��捻已算告一段落，剩下的只是干燥，但「后发酵茶」在杀青、揉捻后有一堆放的过程称为「渥堆」...   \n",
       "4   [之四，利于贮藏运销，通常为了能使内外干燥一致，常采用二次干燥法，先使其达到七、八成干燥，然...   \n",
       "5   [干燥＞红茶发酵：发酵是制造红茶的关键，又称『渥红』，因叶片中含有生物催化剂『多酚氧化酶』，...   \n",
       "6   [�的。分类：1.小种红茶：红汤红叶，有松烟香，为似桂圆汤。熏焙：茶叶薄摊于竹筛中，地上堆松...   \n",
       "7   [＞杀青＞初揉＞初烘＞包揉＞复烘＞干燥＞青茶（乌龙茶）属半发酵茶，介于红茶与绿茶之间的茶类。...   \n",
       "8   [�眉：采摘一芽二三叶。4.寿眉：制造时先经抽针，抽摘出之茶芽做银针，其它叶片制贡眉，制造时...   \n",
       "9   [“霍山黄芽”。\\n~~ 黑茶 ~~\\n鲜叶＞杀青＞初揉＞渥堆＞复揉＞干燥＞黑茶黑茶由于原料...   \n",
       "10  [<1-hop>\\n\\n�满室生香，有炒制时间不常，这是至今发现的关于炒青绿茶最早的文字记载...   \n",
       "11  [<1-hop>\\n\\n级的茶亦不可超过110度。掺和：掺和就是把喜欢而且可以掺的食物与红茶...   \n",
       "12  [<1-hop>\\n\\n干燥＞红茶发酵：发酵是制造红茶的关键，又称『渥红』，因叶片中含有生物...   \n",
       "13  [<1-hop>\\n\\n��多利用于绿茶或不焙火的茶类，这类型的陈放要特别要求干燥。陈放三、...   \n",
       "14  [<1-hop>\\n\\n“霍山黄芽”。\\n~~ 黑茶 ~~\\n鲜叶＞杀青＞初揉＞渥堆＞复揉＞...   \n",
       "15  [<1-hop>\\n\\n拌在一起，它就会吸收茉莉花的香而成茉莉花茶，将桂花与之拌在一起，它就...   \n",
       "16  [<1-hop>\\n\\n小种红茶出现后，逐渐演变产生了工夫红茶。后20世纪20年代，印度发展...   \n",
       "17  [<1-hop>\\n\\n�一批新鲜的花朵，再重复制作一次，这样制成的茶就称为双熏花茶，如果还...   \n",
       "18  [<1-hop>\\n\\n以上机器自动装填自动包装，由于这类包装确实方便了喝茶，所以不久即扩展...   \n",
       "19  [<1-hop>\\n\\n�通过不同加工方法，从不发酵、半发酵到全发酵一系列不同发酵程序所引起...   \n",
       "\n",
       "                                            reference  \\\n",
       "0   摩洛哥拉巴特是联合国教科文组织会议的举办地，在这里审议了中国申报的“中国传统制茶技艺及其相关...   \n",
       "1   The Chinese application for 'Traditional Tea-m...   \n",
       "2   The main tea production area mentioned in the ...   \n",
       "3   The process of渥堆 (wochui) involves stacking th...   \n",
       "4   圆饼状是紧压茶的一种形状。紧压茶通过将制成的茶叶蒸软后加压成块状来制作，这不仅便于运输和贮藏...   \n",
       "5   红茶的发酵是制造红茶的关键步骤，也称为『渥红』。在这个过程中，茶叶中的多酚氧化酶在不经过高温...   \n",
       "6                             红碎茶是揉捻时用机器将叶片切碎，成颗粒形碎片。   \n",
       "7        银针又称白毫银针，是采摘细嫩茶叶加工时不炒不揉，使白茸毛在茶外表完整保存下来的白茶品种。   \n",
       "8     君山银针是黄芽茶的一种，其原料细嫩，主要采摘单芽或一芽一叶加工而成，产自湖南岳阳洞庭湖的君山。   \n",
       "9            黑茶由于原料粗老，并且在制造过程中有一段较长的堆积发酵时间，因此叶色多呈暗褐色。   \n",
       "10  The book 《茶疏》 mentions that black tea was prod...   \n",
       "11  The process of blending involves mixing prefer...   \n",
       "12  小种红茶通过将茶叶薄摊于竹筛中，并在地上堆松材以明火燃烧的方式进行熏焙，使茶叶吸收大量松烟香...   \n",
       "13  后发酵茶需要在干燥阴凉无杂味的地方进行长时间的陈放，以提升其品质至另一境界。陈放过程中不应使...   \n",
       "14  Rose, along with other flowers like jasmine, c...   \n",
       "15  To make 茉莉花茶, fresh jasmine flowers are mixed ...   \n",
       "16  印度在20世纪20年代发展了将茶叶切碎加工的红碎茶技术。中国于20世纪50年代也开始试制这种...   \n",
       "17  使用冻顶或铁观音熏桂花，可以制作出带有花香的茶。焙火轻者喝起来感觉比较生，颜色较亮；焙火重者...   \n",
       "18  The automatic filling and packaging technology...   \n",
       "19  The fermentation process is crucial in manufac...   \n",
       "\n",
       "                        synthesizer_name  \n",
       "0   single_hop_specifc_query_synthesizer  \n",
       "1   single_hop_specifc_query_synthesizer  \n",
       "2   single_hop_specifc_query_synthesizer  \n",
       "3   single_hop_specifc_query_synthesizer  \n",
       "4   single_hop_specifc_query_synthesizer  \n",
       "5   single_hop_specifc_query_synthesizer  \n",
       "6   single_hop_specifc_query_synthesizer  \n",
       "7   single_hop_specifc_query_synthesizer  \n",
       "8   single_hop_specifc_query_synthesizer  \n",
       "9   single_hop_specifc_query_synthesizer  \n",
       "10  multi_hop_specific_query_synthesizer  \n",
       "11  multi_hop_specific_query_synthesizer  \n",
       "12  multi_hop_specific_query_synthesizer  \n",
       "13  multi_hop_specific_query_synthesizer  \n",
       "14  multi_hop_specific_query_synthesizer  \n",
       "15  multi_hop_specific_query_synthesizer  \n",
       "16  multi_hop_specific_query_synthesizer  \n",
       "17  multi_hop_specific_query_synthesizer  \n",
       "18  multi_hop_specific_query_synthesizer  \n",
       "19  multi_hop_specific_query_synthesizer  "
      ]
     },
     "execution_count": 9,
     "metadata": {},
     "output_type": "execute_result"
    }
   ],
   "source": [
    "df = dataset.to_pandas()\n",
    "df"
   ]
  },
  {
   "cell_type": "code",
   "execution_count": null,
   "metadata": {},
   "outputs": [],
   "source": [
    "df.to_json('/home/lct/Ragas/测试数据.json')"
   ]
  },
  {
   "cell_type": "code",
   "execution_count": 2,
   "metadata": {},
   "outputs": [],
   "source": [
    "import pandas as pd\n",
    "\n",
    "df = pd.read_csv('/home/lct/Ragas/测试数据.csv')"
   ]
  },
  {
   "cell_type": "code",
   "execution_count": 4,
   "metadata": {},
   "outputs": [
    {
     "data": {
      "text/plain": [
       "'如何用冻顶熏桂花，并且通过不同的焙火程度来影响茶叶的颜色和口感？'"
      ]
     },
     "execution_count": 4,
     "metadata": {},
     "output_type": "execute_result"
    }
   ],
   "source": [
    "df.iloc[17]['user_input']"
   ]
  },
  {
   "cell_type": "code",
   "execution_count": 7,
   "metadata": {},
   "outputs": [
    {
     "data": {
      "text/plain": [
       "\"['<1-hop>\\\\n\\\\n�一批新鲜的花朵，再重复制作一次，这样制成的茶就称为双熏花茶，如果还嫌不够，还可以再重复熏制一次，那就是三熏花茶了。但大家得记住，我们是在喝茶，只是藉花衬托茶味而已，所以制茶老师父会提醒我们：「七分茶，三分花」。什么茶配什么花有没有一定准则？没有，但一般人会考虑相不相配的问题，如茉莉花与桂花，比较起来茉莉花较年轻，桂花较成熟，所以我们会用清茶或绿茶熏茉莉花，用冻顶或铁观音熏桂花。焙火如果我们想让制成的茶有股火香，感觉得比较温暖一点，可拿来用火烘焙。焙火轻重也会造成不同的风味，焙火轻者喝来感觉比较生，焙火重者喝来感觉比较熟。我们从�', '<2-hop>\\\\n\\\\n�用冻顶或铁观音熏桂花。焙火如果我们想让制成的茶有股火香，感觉得比较温暖一点，可拿来用火烘焙。焙火轻重也会造成不同的风味，焙火轻者喝来感觉比较生，焙火重者喝来感觉比较熟。我们从外观上如何看出焙火的轻重？焙火轻者，颜色较亮，焙火重者，颜色较暗，这颜色包括茶干的颜色与冲泡后茶汤的颜色。在发酵时我们谈到过：发酵愈轻，颜色愈绿，发酵愈重，颜色愈红。焙火所影响的是颜色的深浅，也就是明度的高低，焙火愈重，明度愈低，焙火愈轻，明度愈高。在品饮的口感上有何差异呢？喝轻焙火的茶有如吃清蒸清炒的菜，喝重焙火的茶有如吃红烧的。对身体的效应有何不同呢？�']\""
      ]
     },
     "execution_count": 7,
     "metadata": {},
     "output_type": "execute_result"
    }
   ],
   "source": [
    "df.iloc[17]['reference_contexts']"
   ]
  },
  {
   "cell_type": "code",
   "execution_count": 5,
   "metadata": {},
   "outputs": [
    {
     "data": {
      "text/plain": [
       "'使用冻顶或铁观音熏桂花，可以制作出带有花香的茶。焙火轻者喝起来感觉比较生，颜色较亮；焙火重者喝起来感觉比较熟，颜色较暗。轻焙火的茶有如吃清蒸清炒的菜，而重焙火的茶则像红烧的味道。'"
      ]
     },
     "execution_count": 5,
     "metadata": {},
     "output_type": "execute_result"
    }
   ],
   "source": [
    "df.iloc[17]['reference']"
   ]
  }
 ],
 "metadata": {
  "kernelspec": {
   "display_name": "evaluate",
   "language": "python",
   "name": "python3"
  },
  "language_info": {
   "codemirror_mode": {
    "name": "ipython",
    "version": 3
   },
   "file_extension": ".py",
   "mimetype": "text/x-python",
   "name": "python",
   "nbconvert_exporter": "python",
   "pygments_lexer": "ipython3",
   "version": "3.12.0"
  }
 },
 "nbformat": 4,
 "nbformat_minor": 2
}
